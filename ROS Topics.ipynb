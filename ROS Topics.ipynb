{
 "cells": [
  {
   "cell_type": "markdown",
   "metadata": {},
   "source": [
    "# RAS ile ROS ÖĞRENİYORUM\n",
    "\n",
    "## Ünite 2: ROS Topics\n",
    "\n",
    "Bu Eğitimin verimli olması için python ve linux'u temel seviyede kullanabilir olmanız gerekmektedir.\n",
    "\n",
    "Bu ünitede şunları göreceksiniz:\n",
    "1- ROS içinde tanımlanan temel kavramlar olan Node, Package, Topic, Topics Messages kavramları ve bunların nasıl kullanıldığı \n",
    "2- Publisher ve Subscriber kavramları \n",
    "3- Simulasyon robotu: Turtlebot 3\n",
    "\n",
    "**Part 1: Publishers**\n",
    "\n",
    "Öncelikle terminali açarak şu komutunu çalıştırıyoruz ve ROS'u başlatıyoruz. Buradan sonraki adımlarda ilk terminalimizde roscore çalışıyor durumda olacak ve yeni terminaller açacağız."
   ]
  },
  {
   "cell_type": "code",
   "execution_count": null,
   "metadata": {},
   "outputs": [],
   "source": [
    "~$ roscore"
   ]
  },
  {
   "cell_type": "markdown",
   "metadata": {},
   "source": [
    "Daha sonra ilk python dosyamızı oluşturmak üzere /catkin_ws workspace içerisindeki /src dosyasına terminalimizi yönlendiriyor ve bu konumda çalışabilir durumdaki ilk python dosyamızı oluşturuyoruz."
   ]
  },
  {
   "cell_type": "code",
   "execution_count": null,
   "metadata": {},
   "outputs": [],
   "source": [
    "~$ cd catkin_ws/src\n",
    "~/catkin_ws/src$ touch simple_topic_publisher.py\n",
    "~/catkin_ws/src$ chmod +x simple_topic_publisher.py"
   ]
  },
  {
   "cell_type": "markdown",
   "metadata": {},
   "source": [
    "Ardından bu dosyayı düzenlemek için terminale şunu yazıyoruz ve altındaki python kodunu açılan yeni pencerede kopyalayıp yapıştırıyoruz."
   ]
  },
  {
   "cell_type": "code",
   "execution_count": null,
   "metadata": {},
   "outputs": [],
   "source": [
    "~/catkin_ws/src$ gedit simple_topic_publisher.py"
   ]
  },
  {
   "cell_type": "code",
   "execution_count": null,
   "metadata": {},
   "outputs": [],
   "source": [
    "#! /usr/bin/env python\n",
    "import rospy\n",
    "from std_msgs.msg import Int32\n",
    "\n",
    "rospy.init_node('topic_publisher')\n",
    "\n",
    "pub = rospy.Publisher('/counter', Int32, queue_size=1)\n",
    "\n",
    "rate = rospy.Rate(2)\n",
    "\n",
    "count = Int32()\n",
    "count.data = 0\n",
    "\n",
    "while not rospy.is_shutdown():\n",
    "    pub.publish(count)\n",
    "    count.data += 1\n",
    "    rate.sleep()"
   ]
  },
  {
   "cell_type": "raw",
   "metadata": {},
   "source": [
    "#! /usr/bin/env python\n",
    "\n",
    "Python dosyası oluştururken ilk olarak yapılması gerekir ki dosyanın python dosyası olduğu anlaşılabilsin."
   ]
  },
  {
   "cell_type": "code",
   "execution_count": null,
   "metadata": {},
   "outputs": [],
   "source": [
    "import rospy \n",
    "\n",
    "Python ile çalıştığımızdan dolayı import edilmelidir.\n",
    "\n",
    "from std_msgs.msg import Int32 \n",
    "\n",
    "\"/std_msgs\" isimli bir pakette msg klasöründe Int32 isimli bir mesaj dosyası vardır. OLuşturduğumuz topic bu mesaj tipiyle yayın (publish) yapacaktır. Dolayısıyla bu mesaj tipinin import edilmesi gereklidir."
   ]
  },
  {
   "cell_type": "code",
   "execution_count": null,
   "metadata": {},
   "outputs": [],
   "source": [
    "rospy.init_node('topic_publisher')\n",
    "\n",
    "\"topic_publisher\" adında bir node oluşturduk. Bu node üzerinden bir topic hakkında yayın yapacağız. Keyfi bi isim alabilir.\n",
    "\n",
    "pub = rospy.Publisher('/counter', Int32, queue_size=1)\n",
    "\n",
    "\"/counter\" adlı bir topic üzerinden Int32 mesaj tipinde yayın yapacağız.Bu topic ismi keyfi olabildiği gibi önceden tanımlanmış bir topic ismi de olabilir. \"/cmd_vel\", \"/odom\" gibi.\n"
   ]
  },
  {
   "cell_type": "code",
   "execution_count": null,
   "metadata": {},
   "outputs": [],
   "source": [
    "rate = rospy.Rate(2)\n",
    "rate.sleep()\n",
    "\n",
    "Yapacağımız yayının frekansını belirtiriz. Burada 2 Hz olarak belirledik."
   ]
  },
  {
   "cell_type": "code",
   "execution_count": null,
   "metadata": {},
   "outputs": [],
   "source": [
    "count = Int32()\n",
    "count.data = 0\n",
    "\n",
    "Burada count adında bir değişken tanımlarız ve Int32 mesaj tipindedir.\n",
    "\"data\" Int32 mesaj tipinin içinde yer alan bir parametredir ve tanımdalığımız değişkenin parametresi olarak ona değer veriyoruz."
   ]
  },
  {
   "cell_type": "code",
   "execution_count": null,
   "metadata": {},
   "outputs": [],
   "source": [
    "while not rospy.is_shutdown():\n",
    "    pub.publish(count)\n",
    "    count.data += 1\n",
    "    \n",
    "while döngüsü burada terminal üzerinde ctrl+c basılmadığı sürece çalışır durumda olacaktır. Döngü sırasında belli bir periyotta count değişkenine tanımladığımız parametrelerin hepsi (şuan sadece count) yayınlanacaktır. Her bir periyotta ayrıca bu parametre artacaktır."
   ]
  },
  {
   "cell_type": "markdown",
   "metadata": {},
   "source": [
    "Şimdi yazdığımız kodu çalıştırmaya geldi. Aşağıdaki kodu yazıyoruz."
   ]
  },
  {
   "cell_type": "code",
   "execution_count": null,
   "metadata": {},
   "outputs": [],
   "source": [
    "~/catkin_ws/src$ python simple_topic_publisher.py"
   ]
  },
  {
   "cell_type": "markdown",
   "metadata": {},
   "source": [
    "Ee bir şey olmadı? Çünkü biz yayını yaptık ancak henüz bu yayına abone olan veya dinleyen birisi yok. Gelin yaptığımız yayını dinleyelim. Ayrı bir terminalde şunu yazalım:"
   ]
  },
  {
   "cell_type": "code",
   "execution_count": null,
   "metadata": {},
   "outputs": [],
   "source": [
    "~/rostopic echo /counter"
   ]
  },
  {
   "cell_type": "markdown",
   "metadata": {},
   "source": [
    "Tebrikler! İlk yayınınızı yapmış oldunuz ve ilk dinleyicisi de siz oldunuz. Gelin şimdi de tanımladığımız topic, node ve message kavramlarına terminalin gözünden bakalım.Aşağıdaki kodları teker teker yazarak inceleyelim."
   ]
  },
  {
   "cell_type": "code",
   "execution_count": null,
   "metadata": {},
   "outputs": [],
   "source": [
    "~$ rosnode list\n",
    "\n",
    "Bu kodla şuan aktif olan node ları görebiliyoruz. Şimdi kendi tanımladığımız node için bir bakalım.\n",
    "\n",
    "\n",
    "~$ rosnode info /topic_publisher\n",
    "\n",
    "Burada şimdilik önemli olan \"Publications\" ve \"Subscriptions\" kısmıdır. \"Publications\" kısmı yayın yapılan \"topic\"leri,\n",
    "\"Subscriptions\" da abone olunan \"topic\"leri göstermektedir.\n",
    "\n",
    "\n",
    "~$ rostopic list\n",
    "\n",
    "Bu kodla şuan aktif olan topic leri görebiliyoruz. Şimdi kendi tanımladığımız topic için bir bakalım.\n",
    "\n",
    "\n",
    "~$ rostopic info /counter\n",
    "\n",
    "Burada da bu topic üzerinden yayın yapan ve abone olan \"node\"ları görebiliyoruz. Ayrıca üstte de \"topic\"imizin mesaj tipini görebiliyoruz.\n",
    "\n",
    "\n",
    "~$ roscd std_msgs/msg; ls\n",
    "\n",
    "Burada standart mesaj(std_msgs) paketindeki mesaj tiplerini görebiliyoruz.\n",
    "\n",
    "\n",
    "Son olarak da \"topic\"imizin mesaj tipini ve içindeki parametreleri inceleyelim.\n",
    "\n",
    "~$ rostopic show std_msgs/Int32\n",
    "\n",
    "Görüldüğü gibi Int32 mesaj dosyası içinde sadece data adlı parametre yer alıyor."
   ]
  },
  {
   "cell_type": "markdown",
   "metadata": {},
   "source": [
    "Ben başta simulasyon robotu felan gördüm, bu ne şimdi mi dediniz?\n",
    "Sabredin bir sonraki bölümde Turtlebot ile tanışacağız ve onu\n",
    "gazebo ortamında hareket ettireceğiz."
   ]
  },
  {
   "cell_type": "markdown",
   "metadata": {},
   "source": [
    "**Part 2 Turtlebot3 Robotunu Publisher kullanarak hareket ettirme**"
   ]
  },
  {
   "cell_type": "markdown",
   "metadata": {},
   "source": [
    "Bu bölümde Turtlebot3 robotunu kullanarak publisher kavramının robotikte nasıl kullanıldığını tecrübe etmiş olacağız. \n",
    "\n",
    "Turtlebot3 robotu hakkında detaylı bilgi için:\n",
    "https://emanual.robotis.com/docs/en/platform/turtlebot3/overview/\n",
    "\n",
    "Turtlebot3 için Pc kurulumunu yapacağız. Bunu yaparken de aşağıdaki linki takip edeceğiz:\n",
    "https://emanual.robotis.com/docs/en/platform/turtlebot3/pc_setup/#install-ubuntu-on-remote-pc\n",
    "\n",
    "**Not: Turtlebot3 robotunu ROS melodic versiyonu için kurmaya çalışacağız. Kinetic versiyonu için aşağıda yapılan değişiklikleri dikkate almaya gerek yoktur.**\n",
    "\n",
    "6.1.2'deki kodları birebir terminale kopyalayıp yapıştırarak çalıştırıyoruz. 6.1.3'e geçerken melodic versiyondan kaynaklı şu değişlikleri yapmamız gerekecek."
   ]
  },
  {
   "cell_type": "code",
   "execution_count": null,
   "metadata": {},
   "outputs": [],
   "source": [
    "~$ sudo apt-get install ros-melodic-joy ros-melodic-teleop-twist-joy ros-melodic-teleop-twist-keyboard ros-melodic-laser-proc ros-melodic-rgbd-launch ros-melodic-depthimage-to-laserscan ros-melodic-rosserial-arduino ros-melodic-rosserial-python ros-melodic-rosserial-server ros-melodic-rosserial-client ros-melodic-rosserial-msgs ros-melodic-amcl ros-melodic-map-server ros-melodic-move-base ros-melodic-urdf ros-melodic-xacro ros-melodic-compressed-image-transport ros-melodic-rqt-image-view ros-melodic-gmapping ros-melodic-navigation ros-melodic-interactive-markers"
   ]
  },
  {
   "cell_type": "code",
   "execution_count": null,
   "metadata": {},
   "outputs": [],
   "source": [
    "$~ cd ~/catkin_ws/src/\n",
    "~/catkin_ws/src$ git clone https://github.com/ROBOTIS-GIT/turtlebot3_msgs.git\n",
    "~/catkin_ws/src$ git clone -b melodic-devel https://github.com/ROBOTIS-GIT/turtlebot3.git\n",
    "~/catkin_ws/src$ cd ~/catkin_ws && catkin_make"
   ]
  },
  {
   "cell_type": "markdown",
   "metadata": {},
   "source": [
    "Kurulumun hatasız tamamlanmış olması gerekiyor.\n",
    "Robotu çalıştırmadan evvel güncelleme yapmamız gereken bir takım dosyalar var:"
   ]
  },
  {
   "cell_type": "code",
   "execution_count": null,
   "metadata": {},
   "outputs": [],
   "source": [
    "~$ gedit .ignition/fuel/config.yaml"
   ]
  },
  {
   "cell_type": "code",
   "execution_count": null,
   "metadata": {},
   "outputs": [],
   "source": [
    "url: https://api.ignitionfuel.org \n",
    "yerine aşağıdaki güncel adresi yazıyoruz.\n",
    "url: https://api.ignitionrobotics.org\n",
    "\n",
    "Ayrıca export etmek istediğimiz Turtlebot3 tipini belirliyoruz. .bashrc dosyasının içine aşağıdaki kodu ekliyor ve kaydediyoruz."
   ]
  },
  {
   "cell_type": "code",
   "execution_count": null,
   "metadata": {},
   "outputs": [],
   "source": [
    "~$ gedit .bashrc"
   ]
  },
  {
   "cell_type": "code",
   "execution_count": null,
   "metadata": {},
   "outputs": [],
   "source": [
    "export TURTLEBOT3_MODEL=burger"
   ]
  },
  {
   "cell_type": "markdown",
   "metadata": {},
   "source": [
    "Robot kurulumunun tamamlanmış olması gerekiyor. Robotumuzu görmek için Gazebo'yu açmamız gerekiyor. Şimdi yazacağımız kodla robotla beraber gazebo'yu açmış olacağız."
   ]
  },
  {
   "cell_type": "code",
   "execution_count": null,
   "metadata": {},
   "outputs": [],
   "source": [
    "~$ roslaunch turtlebot3_gazebo turtlebot3_empty_world.launch"
   ]
  },
  {
   "cell_type": "markdown",
   "metadata": {},
   "source": [
    "Robotu öncelikle klavyeden manuel olarak kontrol edelim. Bunun için:"
   ]
  },
  {
   "cell_type": "code",
   "execution_count": null,
   "metadata": {},
   "outputs": [],
   "source": [
    "~$ roslaunch turtlebot3_teleop turtlebot3_teleop_key.launch "
   ]
  },
  {
   "cell_type": "markdown",
   "metadata": {},
   "source": [
    "a,s,d,w,x tuşlarıyla robotu hareket ettirebilirsiniz. Sıkılmışsınızdır biraz, haydi deneyin!"
   ]
  },
  {
   "cell_type": "markdown",
   "metadata": {},
   "source": [
    "Keyfiniz yerine geldiyse gelin işin sıkıcı kısmı publisher konusuna geri dönelim. "
   ]
  },
  {
   "cell_type": "markdown",
   "metadata": {},
   "source": [
    "Bunun için öncelikle bir paket oluşturalım. Adı da \"my_package\" olsun. Python ile yazacağımızdan \"rospy\" dependency olarak eklenmesi gerekiyor."
   ]
  },
  {
   "cell_type": "code",
   "execution_count": null,
   "metadata": {},
   "outputs": [],
   "source": [
    "~$ cd catkin_ws/src; \n",
    "~/catkin_ws/src$ catkin_create_pkg my_package rospy"
   ]
  },
  {
   "cell_type": "code",
   "execution_count": null,
   "metadata": {},
   "outputs": [],
   "source": [
    "~/catkin_ws/src$ rospack profile"
   ]
  },
  {
   "cell_type": "markdown",
   "metadata": {},
   "source": [
    "Ardından python dosyamızı ve launch dosyamızı sırasıyla oluşturacağız. "
   ]
  },
  {
   "cell_type": "code",
   "execution_count": null,
   "metadata": {},
   "outputs": [],
   "source": [
    "~/catkin_ws/src$ cd my_package/src\n",
    "~/catkin_ws/src/my_package/src$ touch robot_mover.py\n",
    "~/catkin_ws/src/my_package/src$ chmod +x robot_mover.py\n",
    "~/catkin_ws/src/my_package/src$ cd ..\n",
    "~/catkin_ws/src/my_package/$ mkdir launch; cd launch\n",
    "~/catkin_ws/src/my_package/launch$ touch robot_launcher.launch"
   ]
  },
  {
   "cell_type": "markdown",
   "metadata": {},
   "source": [
    "Dosyalarımızı oluşturduktan sonra aşağıdaki kodları sırasıyla python ve launch dosyalarına yapıştırıyoruz. Dosya değiştirme işlemlerini IDE üzerinden de kolaylıkla yapabilirsiniz. Dosyayı değiştirdikten kaydetmeyi unutmayın."
   ]
  },
  {
   "cell_type": "code",
   "execution_count": null,
   "metadata": {},
   "outputs": [],
   "source": [
    "#! /usr/bin/env python\n",
    "\n",
    "import rospy\n",
    "from geometry_msgs.msg import Twist\n",
    "\n",
    "rospy.init_node('robot_mover_node')\n",
    "pub=rospy.Publisher('/cmd_vel',Twist,queue_size=1)\n",
    "\n",
    "rate=rospy.Rate(2)\n",
    "\n",
    "move=Twist()\n",
    "move.linear.x= 0.5 # [m/s]\n",
    "move.angular.z= 0.5  # [rad/s]\n",
    "while not rospy.is_shutdown():\n",
    "    pub.publish(move)\n",
    "    print(\"Robot moving...\")\n",
    "    rate.sleep()"
   ]
  },
  {
   "cell_type": "code",
   "execution_count": null,
   "metadata": {},
   "outputs": [],
   "source": [
    "<launch> \n",
    "    <node pkg=\"my_package\" type=\"robot_mover.py\" name=\"robot_mover_node\" output=\"screen\" />\n",
    "</launch>"
   ]
  },
  {
   "cell_type": "markdown",
   "metadata": {},
   "source": [
    "Launch ve python dosyalarımız hazır. Geriye robotu çalıştırmak kalıyor. Aşağıdaki kodla beraber çalıştırarak robotumuza daire çizdirebiliriz."
   ]
  },
  {
   "cell_type": "code",
   "execution_count": null,
   "metadata": {},
   "outputs": [],
   "source": [
    "~$roslaunch my_package robot_launcher.launch"
   ]
  },
  {
   "cell_type": "code",
   "execution_count": null,
   "metadata": {},
   "outputs": [],
   "source": [
    "Robotun doğrusal ve açısal hız değerleriyle oynarak farklı hareketler de elde edebilirsiniz."
   ]
  },
  {
   "cell_type": "markdown",
   "metadata": {},
   "source": [
    "Robotun hızını aynı zamanda terminalden de kontrol edebileceğinizi biliyor muydunuz? Terminali açarak şu kodları yazabilirsiniz:"
   ]
  },
  {
   "cell_type": "code",
   "execution_count": null,
   "metadata": {},
   "outputs": [],
   "source": [
    "~$ rostopic pub /cmd_vel [TAB] [TAB]"
   ]
  },
  {
   "cell_type": "code",
   "execution_count": null,
   "metadata": {},
   "outputs": [],
   "source": [
    "~$ rostopic pub /cmd_vel geometry_msgs/Twist \"linear:\n",
    "  x: 0.0\n",
    "  y: 0.0\n",
    "  z: 0.0\n",
    "angular:\n",
    "  x: 0.0\n",
    "  y: 0.0\n",
    "  z: 0.0\""
   ]
  },
  {
   "cell_type": "markdown",
   "metadata": {},
   "source": [
    "Yukarıdaki ilk kodda topic adını girdikten sonra iki kere TAB'a basarak otomatik olarak topic mesaj tipine ve mesaj içeriğine ulaşmanızı sağlar. Örneğin robotu durdurmak için tüm değerleri sıfırlayarak topic'e yayın yaptırabilirsiniz."
   ]
  },
  {
   "cell_type": "markdown",
   "metadata": {},
   "source": [
    "Diyelim ki robot için bir hız verisi yayınlandınız ve terminali kapattınız. Robot hareket ediyor durumda kalsın ama siz robotun hızını unuttunuz. Robotun hız değerlerini almak için yaptığınız yayını dinlemelisiniz:"
   ]
  },
  {
   "cell_type": "code",
   "execution_count": null,
   "metadata": {},
   "outputs": [],
   "source": [
    "~$ rostopic echo /cmd_vel"
   ]
  },
  {
   "cell_type": "markdown",
   "metadata": {},
   "source": [
    "Ayrıca rostopic ile oluşturabileceğiniz diğer komutları görmek için aşağıdaki kodu terminale yazabilirsiniz:"
   ]
  },
  {
   "cell_type": "code",
   "execution_count": null,
   "metadata": {},
   "outputs": [],
   "source": [
    "~$ rostopic [TAB] [TAB]"
   ]
  },
  {
   "cell_type": "markdown",
   "metadata": {},
   "source": [
    "**Part 3 Subscribers**"
   ]
  },
  {
   "cell_type": "markdown",
   "metadata": {},
   "source": [
    "Biz şu ana kadar publisher kullanarak yayın yapmayı, terminal üzerinden yayın yapmayı ve yine terminal üzerinden bu yayını dinlemeyi yaptık. Şimdi de subscriber kullanarak bu yayınları dinlemeyi deneyeceğiz. Kafanızda belki soru oluşmuş olabilir. Neden terminal üzerinden basitçe bu yayınlarla işlem yapmak varken bir sürü kod yazma uğraşına giriyoruz? Çünkü ileride bir robotla uğraşırken çok fazla sayıda yayın yapan node olacak. Örneğin bir yerden kamera verisi, bir yandan lazer, öbür yandan odometre ve hız gibi verilerle alakalı yayınlar ile uğraşacağız. Bu verileri işlemek ve aynı zamanda çoklu yayın yapma/dinleme kabiliyeti sağladığından publisher/subscriber ları kullanmak avantajlıdır."
   ]
  },
  {
   "cell_type": "markdown",
   "metadata": {},
   "source": [
    "Subscriber kullanma konusunda kafamızda soru işareti kalmadıysa öncelikle yine dosyalarımızı oluşturalım. "
   ]
  },
  {
   "cell_type": "code",
   "execution_count": null,
   "metadata": {},
   "outputs": [],
   "source": [
    "~$ roscd my_package/src\n",
    "~$ touch robot_listener.py\n",
    "~$ chmod +x robot_listener.py\n",
    "~$ cd ..\n",
    "~$ cd lauch; touch subscriber_launcher.launch"
   ]
  },
  {
   "cell_type": "code",
   "execution_count": null,
   "metadata": {},
   "outputs": [],
   "source": [
    "Ardından python ve launch dosyalarımıza aşağıdaki kodları sırasıyla yapıştırıyoruz."
   ]
  },
  {
   "cell_type": "code",
   "execution_count": null,
   "metadata": {},
   "outputs": [],
   "source": [
    "#! /usr/bin/env python\n",
    "import rospy\n",
    "from geometry_msgs.msg import Twist\n",
    "\n",
    "def vel_info(msg):\n",
    "    print msg\n",
    "\n",
    "rospy.init_node('listener_node')\n",
    "\n",
    "sub = rospy.Subscriber('/cmd_vel',Twist, vel_info) #you should publish velocity data before run this module\n",
    "\n",
    "rospy.spin()"
   ]
  },
  {
   "cell_type": "code",
   "execution_count": null,
   "metadata": {},
   "outputs": [],
   "source": [
    "<launch>\n",
    "    <node pkg=\"my_package\" type=\"robot_listener.py\" name=\"listener_node\" output=\"screen\" />\n",
    "</launch>"
   ]
  },
  {
   "cell_type": "code",
   "execution_count": null,
   "metadata": {},
   "outputs": [],
   "source": [
    "Yayınladığınız hız verisini subscriber aracılığıyla dinlemek için terminalden aşağıdaki kodu yazabilirsiniz"
   ]
  },
  {
   "cell_type": "code",
   "execution_count": null,
   "metadata": {},
   "outputs": [],
   "source": [
    "~$ roslaunch my_package subscriber_launcher.launch"
   ]
  },
  {
   "cell_type": "markdown",
   "metadata": {},
   "source": [
    "Şuanda terminal üzerinde bir önceki bölümde python koduyla yayınladığımız hız değerlerini okuyabiliyoruz. Pekala hız verisini zaten biz yayınlıyoruz ve biliyoruz. Arık bunu dinlemenin bir anlamı yok. Gelin şimdi de robotun kendi yayınladığı odometre verilerini dinleyelim. Bu verilere bakarak robotun hangi konumda nereye dönük olduğunu öğrenebileceğiz. Python kodunu düzenleyerek aşağıdaki hale getirebilir, ya da yeni bir python & launch dosyası yaratarak pratik yapabilirsiniz. "
   ]
  },
  {
   "cell_type": "code",
   "execution_count": null,
   "metadata": {},
   "outputs": [],
   "source": [
    "#! /usr/bin/env python\n",
    "import rospy\n",
    "from nav_msgs.msg import Odometry\n",
    "\n",
    "def pose_info(msg):\n",
    "    \n",
    "    # print (msg) #This will print the whole Odometry message\n",
    "    # print msg.header #This will print the header section of the Odometry message\n",
    "    print msg.pose # #This will print the pose section of the Odometry message\n",
    "\n",
    "rospy.init_node('listener_node')\n",
    "sub = rospy.Subscriber('/odom', Odometry, pose_info)\n",
    "\n",
    "rospy.spin()"
   ]
  },
  {
   "cell_type": "code",
   "execution_count": null,
   "metadata": {},
   "outputs": [],
   "source": []
  },
  {
   "cell_type": "code",
   "execution_count": null,
   "metadata": {},
   "outputs": [],
   "source": []
  },
  {
   "cell_type": "code",
   "execution_count": null,
   "metadata": {},
   "outputs": [],
   "source": []
  },
  {
   "cell_type": "code",
   "execution_count": null,
   "metadata": {},
   "outputs": [],
   "source": []
  },
  {
   "cell_type": "code",
   "execution_count": null,
   "metadata": {},
   "outputs": [],
   "source": []
  }
 ],
 "metadata": {
  "kernelspec": {
   "display_name": "Python 3",
   "language": "python",
   "name": "python3"
  },
  "language_info": {
   "codemirror_mode": {
    "name": "ipython",
    "version": 3
   },
   "file_extension": ".py",
   "mimetype": "text/x-python",
   "name": "python",
   "nbconvert_exporter": "python",
   "pygments_lexer": "ipython3",
   "version": "3.7.3"
  }
 },
 "nbformat": 4,
 "nbformat_minor": 2
}
